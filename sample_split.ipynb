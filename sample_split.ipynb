{
 "cells": [
  {
   "cell_type": "code",
   "execution_count": 1,
   "metadata": {},
   "outputs": [],
   "source": [
    "import numpy as np\n",
    "import pickle\n",
    "from src.in_out import snc_category_to_synth_id\n",
    "import os"
   ]
  },
  {
   "cell_type": "code",
   "execution_count": 2,
   "metadata": {},
   "outputs": [],
   "source": [
    "np.random.seed(100)\n",
    "\n",
    "dict_name_to_cid=snc_category_to_synth_id()\n",
    "dict_cid_to_name=dict(map(reversed, dict_name_to_cid.items()))\n",
    "dir_data='/home/yeye/bin/2/project/data/shape_net_core_uniform_samples_2048/'\n",
    "\n",
    "lst_all_cid=os.listdir(dir_data)\n",
    "lst_all_name=list(dict_name_to_cid.keys())\n",
    "dict_info=dict()\n",
    "for cid in lst_all_cid:\n",
    "    name=dict_cid_to_name[cid]\n",
    "    dir_ply=dir_data+cid+'/'\n",
    "    lst_ply=os.listdir(dir_ply)\n",
    "    n=len(lst_ply)\n",
    "    #train,val,test split\n",
    "    num_train=round(n*.7)\n",
    "    num_val=round(n*.1)\n",
    "    lst_ind=np.arange(n)\n",
    "    np.random.shuffle(lst_ind)\n",
    "    lst_ind_train=lst_ind[:num_train]\n",
    "    lst_ind_val=lst_ind[num_train:num_train+num_val]\n",
    "    lst_ind_test=lst_ind[num_train+num_val:]\n",
    "    dict_split={'train':[lst_ply[i] for i in lst_ind_train],\\\n",
    "               'val':[lst_ply[i] for i in lst_ind_val],\\\n",
    "               'test':[lst_ply[i] for i in lst_ind_test]}\n",
    "    \n",
    "    dict_info[name]={'name':name,'cid':cid,'lst_ply':lst_ply,'num_ply':n,'dict_split':dict_split}"
   ]
  },
  {
   "cell_type": "code",
   "execution_count": 3,
   "metadata": {},
   "outputs": [
    {
     "name": "stdout",
     "output_type": "stream",
     "text": [
      "8509 table\n",
      "7497 car\n",
      "6778 chair\n",
      "4045 airplane\n",
      "3173 sofa\n",
      "2372 rifle\n",
      "2318 lamp\n",
      "1939 vessel\n",
      "1816 bench\n",
      "1618 speaker\n"
     ]
    }
   ],
   "source": [
    "# find categories with the most data points\n",
    "lst_n=list()\n",
    "for name in lst_all_name:\n",
    "    lst_n.append(dict_info[name]['num_ply'])\n",
    "lst_n_sorted,lst_name_sorted=zip(*sorted(zip(lst_n,lst_all_name),reverse=True))\n",
    "\n",
    "for i in range(10):\n",
    "    print(lst_n_sorted[i],lst_name_sorted[i])"
   ]
  },
  {
   "cell_type": "markdown",
   "metadata": {},
   "source": [
    "# save"
   ]
  },
  {
   "cell_type": "code",
   "execution_count": 4,
   "metadata": {},
   "outputs": [],
   "source": [
    "with open('/home/yeye/bin/2/project/data/'+'dict_info.pkl','wb') as handle:\n",
    "        pickle.dump(dict_info,handle,protocol=pickle.HIGHEST_PROTOCOL)"
   ]
  }
 ],
 "metadata": {
  "kernelspec": {
   "display_name": "Python 3",
   "language": "python",
   "name": "python3"
  },
  "language_info": {
   "codemirror_mode": {
    "name": "ipython",
    "version": 3
   },
   "file_extension": ".py",
   "mimetype": "text/x-python",
   "name": "python",
   "nbconvert_exporter": "python",
   "pygments_lexer": "ipython3",
   "version": "3.7.3"
  }
 },
 "nbformat": 4,
 "nbformat_minor": 2
}
